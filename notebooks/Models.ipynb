{
 "cells": [
  {
   "cell_type": "code",
   "execution_count": 1,
   "metadata": {},
   "outputs": [],
   "source": [
    "import pandas as pd\n",
    "from sklearn.svm import SVC\n",
    "from sklearn.ensemble import RandomForestClassifier, AdaBoostClassifier, GradientBoostingClassifier\n",
    "from sklearn.neighbors import KNeighborsClassifier\n",
    "from sklearn.tree import DecisionTreeClassifier\n",
    "from sklearn.linear_model import LogisticRegression\n",
    "from xgboost import XGBClassifier\n",
    "from sklearn.naive_bayes import GaussianNB\n",
    "\n",
    "from sklearn.metrics import accuracy_score, confusion_matrix, precision_score, roc_curve, auc\n",
    "from sklearn.model_selection import train_test_split, cross_val_score, learning_curve, GridSearchCV\n",
    "from sklearn.preprocessing import StandardScaler\n",
    "from scipy import stats\n",
    "from sklearn.decomposition import PCA\n",
    "from loguru import logger\n",
    "\n",
    "import json\n",
    "import sys\n",
    "import os\n",
    "sys.path.append(os.path.abspath('../scripts'))\n",
    "from train_model import *\n",
    "\n",
    "import matplotlib.pyplot as plt\n",
    "import seaborn as sns\n",
    "\n",
    "import warnings\n",
    "warnings.filterwarnings('ignore')"
   ]
  },
  {
   "cell_type": "code",
   "execution_count": 2,
   "metadata": {},
   "outputs": [
    {
     "data": {
      "text/html": [
       "<div>\n",
       "<style scoped>\n",
       "    .dataframe tbody tr th:only-of-type {\n",
       "        vertical-align: middle;\n",
       "    }\n",
       "\n",
       "    .dataframe tbody tr th {\n",
       "        vertical-align: top;\n",
       "    }\n",
       "\n",
       "    .dataframe thead th {\n",
       "        text-align: right;\n",
       "    }\n",
       "</style>\n",
       "<table border=\"1\" class=\"dataframe\">\n",
       "  <thead>\n",
       "    <tr style=\"text-align: right;\">\n",
       "      <th></th>\n",
       "      <th>Age</th>\n",
       "      <th>Sex</th>\n",
       "      <th>ChestPainType</th>\n",
       "      <th>RestingBP</th>\n",
       "      <th>Cholesterol</th>\n",
       "      <th>FastingBS</th>\n",
       "      <th>RestingECG</th>\n",
       "      <th>MaxHR</th>\n",
       "      <th>ExerciseAngina</th>\n",
       "      <th>Oldpeak</th>\n",
       "      <th>ST_Slope</th>\n",
       "      <th>HeartDisease</th>\n",
       "    </tr>\n",
       "  </thead>\n",
       "  <tbody>\n",
       "    <tr>\n",
       "      <th>0</th>\n",
       "      <td>40</td>\n",
       "      <td>1</td>\n",
       "      <td>1</td>\n",
       "      <td>140</td>\n",
       "      <td>289</td>\n",
       "      <td>0</td>\n",
       "      <td>1</td>\n",
       "      <td>172</td>\n",
       "      <td>0</td>\n",
       "      <td>0.0</td>\n",
       "      <td>2</td>\n",
       "      <td>0</td>\n",
       "    </tr>\n",
       "    <tr>\n",
       "      <th>1</th>\n",
       "      <td>49</td>\n",
       "      <td>0</td>\n",
       "      <td>2</td>\n",
       "      <td>160</td>\n",
       "      <td>180</td>\n",
       "      <td>0</td>\n",
       "      <td>1</td>\n",
       "      <td>156</td>\n",
       "      <td>0</td>\n",
       "      <td>1.0</td>\n",
       "      <td>1</td>\n",
       "      <td>1</td>\n",
       "    </tr>\n",
       "    <tr>\n",
       "      <th>2</th>\n",
       "      <td>37</td>\n",
       "      <td>1</td>\n",
       "      <td>1</td>\n",
       "      <td>130</td>\n",
       "      <td>283</td>\n",
       "      <td>0</td>\n",
       "      <td>2</td>\n",
       "      <td>98</td>\n",
       "      <td>0</td>\n",
       "      <td>0.0</td>\n",
       "      <td>2</td>\n",
       "      <td>0</td>\n",
       "    </tr>\n",
       "    <tr>\n",
       "      <th>3</th>\n",
       "      <td>48</td>\n",
       "      <td>0</td>\n",
       "      <td>0</td>\n",
       "      <td>138</td>\n",
       "      <td>214</td>\n",
       "      <td>0</td>\n",
       "      <td>1</td>\n",
       "      <td>108</td>\n",
       "      <td>1</td>\n",
       "      <td>1.5</td>\n",
       "      <td>1</td>\n",
       "      <td>1</td>\n",
       "    </tr>\n",
       "    <tr>\n",
       "      <th>4</th>\n",
       "      <td>54</td>\n",
       "      <td>1</td>\n",
       "      <td>2</td>\n",
       "      <td>150</td>\n",
       "      <td>195</td>\n",
       "      <td>0</td>\n",
       "      <td>1</td>\n",
       "      <td>122</td>\n",
       "      <td>0</td>\n",
       "      <td>0.0</td>\n",
       "      <td>2</td>\n",
       "      <td>0</td>\n",
       "    </tr>\n",
       "  </tbody>\n",
       "</table>\n",
       "</div>"
      ],
      "text/plain": [
       "   Age  Sex  ChestPainType  RestingBP  Cholesterol  FastingBS  RestingECG  \\\n",
       "0   40    1              1        140          289          0           1   \n",
       "1   49    0              2        160          180          0           1   \n",
       "2   37    1              1        130          283          0           2   \n",
       "3   48    0              0        138          214          0           1   \n",
       "4   54    1              2        150          195          0           1   \n",
       "\n",
       "   MaxHR  ExerciseAngina  Oldpeak  ST_Slope  HeartDisease  \n",
       "0    172               0      0.0         2             0  \n",
       "1    156               0      1.0         1             1  \n",
       "2     98               0      0.0         2             0  \n",
       "3    108               1      1.5         1             1  \n",
       "4    122               0      0.0         2             0  "
      ]
     },
     "execution_count": 2,
     "metadata": {},
     "output_type": "execute_result"
    }
   ],
   "source": [
    "df = pd.read_csv('../data/processed/heart_processed.csv')\n",
    "df.head()"
   ]
  },
  {
   "cell_type": "code",
   "execution_count": 3,
   "metadata": {},
   "outputs": [],
   "source": [
    "ss = StandardScaler()\n",
    "df['Oldpeak'] = ss.fit_transform(df[['Oldpeak']])\n",
    "df['RestingBP'] = ss.fit_transform(df[['RestingBP']])\n",
    "df['Age'] = ss.fit_transform(df[['Age']])\n",
    "df['Cholesterol'] = ss.fit_transform(df[['Cholesterol']])\n",
    "df['MaxHR'] = ss.fit_transform(df[['MaxHR']])"
   ]
  },
  {
   "cell_type": "code",
   "execution_count": 4,
   "metadata": {},
   "outputs": [],
   "source": [
    "x = df.drop(['HeartDisease'], axis=1)\n",
    "y = df['HeartDisease']"
   ]
  },
  {
   "cell_type": "code",
   "execution_count": 5,
   "metadata": {},
   "outputs": [],
   "source": [
    "x_train, x_test, y_train, y_test = train_test_split(x, y, test_size=0.3, random_state=42)"
   ]
  },
  {
   "cell_type": "markdown",
   "metadata": {},
   "source": [
    "## GridSearchCV\n",
    "<p>GridSearchCV is a technique for finding the best combination of hyperparameters for a machine learning model. It tests all possible combinations of hyperparameters, evaluating each one using cross-validation. The model with the best average performance is selected as the final result. GridSearchCV helps optimize the model's performance, but it can be computationally intensive.<p>\n",
    "<p>This code automates the training and evaluation of multiple classification models using different parameters for each model. Through the loop and the models_list, the results are stored for each model, allowing for the comparison of model performances and the selection of the one that achieved the best performance for the specific classification task at hand. This facilitates the process of experimenting with various models and hyperparameters, making the development of a machine learning model more efficient and scalable.<p>"
   ]
  },
  {
   "cell_type": "code",
   "execution_count": 6,
   "metadata": {},
   "outputs": [
    {
     "name": "stderr",
     "output_type": "stream",
     "text": [
      "\u001b[32m2025-01-16 21:44:37.128\u001b[0m | \u001b[1mINFO    \u001b[0m | \u001b[36m__main__\u001b[0m:\u001b[36m<module>\u001b[0m:\u001b[36m50\u001b[0m - \u001b[1mTraining Model SVM\u001b[0m\n"
     ]
    },
    {
     "name": "stdout",
     "output_type": "stream",
     "text": [
      "\n"
     ]
    },
    {
     "name": "stderr",
     "output_type": "stream",
     "text": [
      "\u001b[32m2025-01-16 21:44:40.592\u001b[0m | \u001b[1mINFO    \u001b[0m | \u001b[36m__main__\u001b[0m:\u001b[36m<module>\u001b[0m:\u001b[36m55\u001b[0m - \u001b[1mTime to train model 0:00:03.462123\u001b[0m\n",
      "\u001b[32m2025-01-16 21:44:40.597\u001b[0m | \u001b[1mINFO    \u001b[0m | \u001b[36m__main__\u001b[0m:\u001b[36m<module>\u001b[0m:\u001b[36m56\u001b[0m - \u001b[1mModel accuracy SVM: 0.8623188405797102\u001b[0m\n",
      "\u001b[32m2025-01-16 21:44:40.597\u001b[0m | \u001b[1mINFO    \u001b[0m | \u001b[36m__main__\u001b[0m:\u001b[36m<module>\u001b[0m:\u001b[36m57\u001b[0m - \u001b[1mBest Model Params {\n",
      "    \"C\": 0.9,\n",
      "    \"gamma\": 0.7,\n",
      "    \"kernel\": \"linear\"\n",
      "}\u001b[0m\n",
      "\u001b[32m2025-01-16 21:44:40.597\u001b[0m | \u001b[1mINFO    \u001b[0m | \u001b[36m__main__\u001b[0m:\u001b[36m<module>\u001b[0m:\u001b[36m50\u001b[0m - \u001b[1mTraining Model Random Forest\u001b[0m\n"
     ]
    },
    {
     "name": "stdout",
     "output_type": "stream",
     "text": [
      "\n"
     ]
    },
    {
     "name": "stderr",
     "output_type": "stream",
     "text": [
      "\u001b[32m2025-01-16 21:45:21.862\u001b[0m | \u001b[1mINFO    \u001b[0m | \u001b[36m__main__\u001b[0m:\u001b[36m<module>\u001b[0m:\u001b[36m55\u001b[0m - \u001b[1mTime to train model 0:00:41.231760\u001b[0m\n",
      "\u001b[32m2025-01-16 21:45:21.862\u001b[0m | \u001b[1mINFO    \u001b[0m | \u001b[36m__main__\u001b[0m:\u001b[36m<module>\u001b[0m:\u001b[36m56\u001b[0m - \u001b[1mModel accuracy Random Forest: 0.8695652173913043\u001b[0m\n",
      "\u001b[32m2025-01-16 21:45:21.862\u001b[0m | \u001b[1mINFO    \u001b[0m | \u001b[36m__main__\u001b[0m:\u001b[36m<module>\u001b[0m:\u001b[36m57\u001b[0m - \u001b[1mBest Model Params {\n",
      "    \"criterion\": \"entropy\",\n",
      "    \"max_depth\": 6,\n",
      "    \"n_estimators\": 1000\n",
      "}\u001b[0m\n",
      "\u001b[32m2025-01-16 21:45:21.862\u001b[0m | \u001b[1mINFO    \u001b[0m | \u001b[36m__main__\u001b[0m:\u001b[36m<module>\u001b[0m:\u001b[36m50\u001b[0m - \u001b[1mTraining Model K-Nearest Neighbors\u001b[0m\n"
     ]
    },
    {
     "name": "stdout",
     "output_type": "stream",
     "text": [
      "\n"
     ]
    },
    {
     "name": "stderr",
     "output_type": "stream",
     "text": [
      "\u001b[32m2025-01-16 21:45:26.573\u001b[0m | \u001b[1mINFO    \u001b[0m | \u001b[36m__main__\u001b[0m:\u001b[36m<module>\u001b[0m:\u001b[36m55\u001b[0m - \u001b[1mTime to train model 0:00:04.689674\u001b[0m\n",
      "\u001b[32m2025-01-16 21:45:26.574\u001b[0m | \u001b[1mINFO    \u001b[0m | \u001b[36m__main__\u001b[0m:\u001b[36m<module>\u001b[0m:\u001b[36m56\u001b[0m - \u001b[1mModel accuracy K-Nearest Neighbors: 0.8586956521739131\u001b[0m\n",
      "\u001b[32m2025-01-16 21:45:26.574\u001b[0m | \u001b[1mINFO    \u001b[0m | \u001b[36m__main__\u001b[0m:\u001b[36m<module>\u001b[0m:\u001b[36m57\u001b[0m - \u001b[1mBest Model Params {\n",
      "    \"algorithm\": \"auto\",\n",
      "    \"leaf_size\": 10,\n",
      "    \"metric\": \"manhattan\",\n",
      "    \"n_jobs\": -1,\n",
      "    \"n_neighbors\": 5,\n",
      "    \"p\": 1,\n",
      "    \"weights\": \"distance\"\n",
      "}\u001b[0m\n",
      "\u001b[32m2025-01-16 21:45:26.574\u001b[0m | \u001b[1mINFO    \u001b[0m | \u001b[36m__main__\u001b[0m:\u001b[36m<module>\u001b[0m:\u001b[36m50\u001b[0m - \u001b[1mTraining Model Decision Tree\u001b[0m\n",
      "\u001b[32m2025-01-16 21:45:26.713\u001b[0m | \u001b[1mINFO    \u001b[0m | \u001b[36m__main__\u001b[0m:\u001b[36m<module>\u001b[0m:\u001b[36m55\u001b[0m - \u001b[1mTime to train model 0:00:00.135606\u001b[0m\n",
      "\u001b[32m2025-01-16 21:45:26.713\u001b[0m | \u001b[1mINFO    \u001b[0m | \u001b[36m__main__\u001b[0m:\u001b[36m<module>\u001b[0m:\u001b[36m56\u001b[0m - \u001b[1mModel accuracy Decision Tree: 0.8333333333333334\u001b[0m\n",
      "\u001b[32m2025-01-16 21:45:26.714\u001b[0m | \u001b[1mINFO    \u001b[0m | \u001b[36m__main__\u001b[0m:\u001b[36m<module>\u001b[0m:\u001b[36m57\u001b[0m - \u001b[1mBest Model Params {\n",
      "    \"max_depth\": 3,\n",
      "    \"min_samples_split\": 2\n",
      "}\u001b[0m\n",
      "\u001b[32m2025-01-16 21:45:26.714\u001b[0m | \u001b[1mINFO    \u001b[0m | \u001b[36m__main__\u001b[0m:\u001b[36m<module>\u001b[0m:\u001b[36m50\u001b[0m - \u001b[1mTraining Model AdaBoost\u001b[0m\n"
     ]
    },
    {
     "name": "stdout",
     "output_type": "stream",
     "text": [
      "\n",
      "\n"
     ]
    },
    {
     "name": "stderr",
     "output_type": "stream",
     "text": [
      "\u001b[32m2025-01-16 21:45:32.618\u001b[0m | \u001b[1mINFO    \u001b[0m | \u001b[36m__main__\u001b[0m:\u001b[36m<module>\u001b[0m:\u001b[36m55\u001b[0m - \u001b[1mTime to train model 0:00:05.888671\u001b[0m\n",
      "\u001b[32m2025-01-16 21:45:32.618\u001b[0m | \u001b[1mINFO    \u001b[0m | \u001b[36m__main__\u001b[0m:\u001b[36m<module>\u001b[0m:\u001b[36m56\u001b[0m - \u001b[1mModel accuracy AdaBoost: 0.8478260869565217\u001b[0m\n",
      "\u001b[32m2025-01-16 21:45:32.619\u001b[0m | \u001b[1mINFO    \u001b[0m | \u001b[36m__main__\u001b[0m:\u001b[36m<module>\u001b[0m:\u001b[36m57\u001b[0m - \u001b[1mBest Model Params {\n",
      "    \"algorithm\": \"SAMME\",\n",
      "    \"learning_rate\": 0.1,\n",
      "    \"n_estimators\": 200\n",
      "}\u001b[0m\n",
      "\u001b[32m2025-01-16 21:45:32.620\u001b[0m | \u001b[1mINFO    \u001b[0m | \u001b[36m__main__\u001b[0m:\u001b[36m<module>\u001b[0m:\u001b[36m50\u001b[0m - \u001b[1mTraining Model Gradient Boosting\u001b[0m\n"
     ]
    },
    {
     "name": "stdout",
     "output_type": "stream",
     "text": [
      "\n"
     ]
    },
    {
     "name": "stderr",
     "output_type": "stream",
     "text": [
      "\u001b[32m2025-01-16 21:45:46.871\u001b[0m | \u001b[1mINFO    \u001b[0m | \u001b[36m__main__\u001b[0m:\u001b[36m<module>\u001b[0m:\u001b[36m55\u001b[0m - \u001b[1mTime to train model 0:00:14.249294\u001b[0m\n",
      "\u001b[32m2025-01-16 21:45:46.872\u001b[0m | \u001b[1mINFO    \u001b[0m | \u001b[36m__main__\u001b[0m:\u001b[36m<module>\u001b[0m:\u001b[36m56\u001b[0m - \u001b[1mModel accuracy Gradient Boosting: 0.8586956521739131\u001b[0m\n",
      "\u001b[32m2025-01-16 21:45:46.872\u001b[0m | \u001b[1mINFO    \u001b[0m | \u001b[36m__main__\u001b[0m:\u001b[36m<module>\u001b[0m:\u001b[36m57\u001b[0m - \u001b[1mBest Model Params {\n",
      "    \"learning_rate\": 0.1,\n",
      "    \"max_depth\": 3,\n",
      "    \"n_estimators\": 50,\n",
      "    \"subsample\": 0.8\n",
      "}\u001b[0m\n",
      "\u001b[32m2025-01-16 21:45:46.873\u001b[0m | \u001b[1mINFO    \u001b[0m | \u001b[36m__main__\u001b[0m:\u001b[36m<module>\u001b[0m:\u001b[36m50\u001b[0m - \u001b[1mTraining Model Logistic Regression\u001b[0m\n"
     ]
    },
    {
     "name": "stdout",
     "output_type": "stream",
     "text": [
      "\n"
     ]
    },
    {
     "name": "stderr",
     "output_type": "stream",
     "text": [
      "\u001b[32m2025-01-16 21:45:47.287\u001b[0m | \u001b[1mINFO    \u001b[0m | \u001b[36m__main__\u001b[0m:\u001b[36m<module>\u001b[0m:\u001b[36m55\u001b[0m - \u001b[1mTime to train model 0:00:00.411897\u001b[0m\n",
      "\u001b[32m2025-01-16 21:45:47.287\u001b[0m | \u001b[1mINFO    \u001b[0m | \u001b[36m__main__\u001b[0m:\u001b[36m<module>\u001b[0m:\u001b[36m56\u001b[0m - \u001b[1mModel accuracy Logistic Regression: 0.8623188405797102\u001b[0m\n",
      "\u001b[32m2025-01-16 21:45:47.288\u001b[0m | \u001b[1mINFO    \u001b[0m | \u001b[36m__main__\u001b[0m:\u001b[36m<module>\u001b[0m:\u001b[36m57\u001b[0m - \u001b[1mBest Model Params {\n",
      "    \"C\": 0.5,\n",
      "    \"l1_ratio\": 0.1,\n",
      "    \"penalty\": \"l1\",\n",
      "    \"solver\": \"liblinear\"\n",
      "}\u001b[0m\n",
      "\u001b[32m2025-01-16 21:45:47.288\u001b[0m | \u001b[1mINFO    \u001b[0m | \u001b[36m__main__\u001b[0m:\u001b[36m<module>\u001b[0m:\u001b[36m50\u001b[0m - \u001b[1mTraining Model XGBoost\u001b[0m\n"
     ]
    },
    {
     "name": "stdout",
     "output_type": "stream",
     "text": [
      "\n"
     ]
    },
    {
     "name": "stderr",
     "output_type": "stream",
     "text": [
      "\u001b[32m2025-01-16 21:46:07.338\u001b[0m | \u001b[1mINFO    \u001b[0m | \u001b[36m__main__\u001b[0m:\u001b[36m<module>\u001b[0m:\u001b[36m55\u001b[0m - \u001b[1mTime to train model 0:00:20.043869\u001b[0m\n",
      "\u001b[32m2025-01-16 21:46:07.343\u001b[0m | \u001b[1mINFO    \u001b[0m | \u001b[36m__main__\u001b[0m:\u001b[36m<module>\u001b[0m:\u001b[36m56\u001b[0m - \u001b[1mModel accuracy XGBoost: 0.8659420289855072\u001b[0m\n",
      "\u001b[32m2025-01-16 21:46:07.343\u001b[0m | \u001b[1mINFO    \u001b[0m | \u001b[36m__main__\u001b[0m:\u001b[36m<module>\u001b[0m:\u001b[36m57\u001b[0m - \u001b[1mBest Model Params {\n",
      "    \"colsample_bytree\": 0.8,\n",
      "    \"learning_rate\": 0.1,\n",
      "    \"max_depth\": 4,\n",
      "    \"n_estimators\": 50,\n",
      "    \"subsample\": 0.8\n",
      "}\u001b[0m\n",
      "\u001b[32m2025-01-16 21:46:07.344\u001b[0m | \u001b[1mINFO    \u001b[0m | \u001b[36m__main__\u001b[0m:\u001b[36m<module>\u001b[0m:\u001b[36m50\u001b[0m - \u001b[1mTraining Model Naive Bayes\u001b[0m\n",
      "\u001b[32m2025-01-16 21:46:07.415\u001b[0m | \u001b[1mINFO    \u001b[0m | \u001b[36m__main__\u001b[0m:\u001b[36m<module>\u001b[0m:\u001b[36m55\u001b[0m - \u001b[1mTime to train model 0:00:00.070003\u001b[0m\n",
      "\u001b[32m2025-01-16 21:46:07.416\u001b[0m | \u001b[1mINFO    \u001b[0m | \u001b[36m__main__\u001b[0m:\u001b[36m<module>\u001b[0m:\u001b[36m56\u001b[0m - \u001b[1mModel accuracy Naive Bayes: 0.8369565217391305\u001b[0m\n",
      "\u001b[32m2025-01-16 21:46:07.416\u001b[0m | \u001b[1mINFO    \u001b[0m | \u001b[36m__main__\u001b[0m:\u001b[36m<module>\u001b[0m:\u001b[36m57\u001b[0m - \u001b[1mBest Model Params {}\u001b[0m\n"
     ]
    },
    {
     "name": "stdout",
     "output_type": "stream",
     "text": [
      "\n"
     ]
    }
   ],
   "source": [
    "models_list = list()\n",
    "\n",
    "models = [\n",
    "    {'name': 'SVM', 'model': SVC(), 'param_grid': {'C': [0.7, 0.8, 0.9, 1, 1.1, 1.2, 1.3],\n",
    "                                                   'gamma': [0.7, 0.8, 0.9, 1, 1.1, 1.2],\n",
    "                                                   'kernel': ['linear', 'rbf']}},\n",
    "\n",
    "    {'name': 'Random Forest', 'model': RandomForestClassifier(), 'param_grid': {'n_estimators': [10, 50, 100, 500, 1000],\n",
    "                                                                                'max_depth': [2, 3, 4, 5, 6, 7, 8, 9, 10],\n",
    "                                                                                'criterion': ['gini', 'entropy', 'log_loss']}},\n",
    "\n",
    "    {'name': 'K-Nearest Neighbors', 'model': KNeighborsClassifier(), 'param_grid': {'n_neighbors': [3, 5, 7],\n",
    "                                                                                    'p': [1, 2],'weights': ['uniform', 'distance'],\n",
    "                                                                                    'algorithm': ['auto', 'ball_tree', 'kd_tree', 'brute'],\n",
    "                                                                                    'leaf_size': [10, 20, 30],\n",
    "                                                                                    'metric': ['euclidean', 'manhattan', 'chebyshev'],\n",
    "                                                                                    'n_jobs': [-1]}},\n",
    "\n",
    "    {'name': 'Decision Tree', 'model': DecisionTreeClassifier(), 'param_grid': {'max_depth': [2, 3, 4, 5, 6, 7, 8, 9, 10],\n",
    "                                                                                'min_samples_split': [2, 5, 10]}},\n",
    "\n",
    "    {'name': 'AdaBoost', 'model': AdaBoostClassifier(), 'param_grid': {'n_estimators': [50, 100, 200, 500],\n",
    "                                                                       'learning_rate': [0.1, 0.5, 1.0],\n",
    "                                                                       'algorithm': ['SAMME', 'SAMME.R']}},\n",
    "\n",
    "    {'name': 'Gradient Boosting', 'model': GradientBoostingClassifier(), 'param_grid': {'n_estimators': [50, 100, 200, 500],\n",
    "                                                                                         'learning_rate': [0.1, 0.5, 1.0],\n",
    "                                                                                         'max_depth': [3, 4, 5],\n",
    "                                                                                         'subsample': [0.8, 1.0]}},\n",
    "\n",
    "    {'name': 'Logistic Regression', 'model': LogisticRegression(), 'param_grid': {'C': [0.1, 0.5, 1.0, 1.5, 2.0],\n",
    "                                                                                   'solver': ['liblinear', 'saga'],\n",
    "                                                                                   'penalty': ['l1', 'l2', 'elasticnet'],\n",
    "                                                                                   'l1_ratio': [0.1, 0.5, 0.9]}},\n",
    "\n",
    "    {'name': 'XGBoost', 'model': XGBClassifier(), 'param_grid': {'max_depth': [3, 4, 5, 6, 7],\n",
    "                                                                 'learning_rate': [0.1, 0.01, 0.001],\n",
    "                                                                 'n_estimators': [50, 100, 200, 500],\n",
    "                                                                 'subsample': [0.8, 1.0],\n",
    "                                                                 'colsample_bytree': [0.6, 0.8, 1.0]}},\n",
    "\n",
    "    {'name': 'Naive Bayes', 'model': GaussianNB(), 'param_grid': {}}\n",
    "]\n",
    "\n",
    "for model_info in models:\n",
    "    model_name = model_info.get(\"name\")\n",
    "    model = model_info.get(\"model\")\n",
    "    param_grid = model_info.get(\"param_grid\")\n",
    "\n",
    "    logger.info(f\"Training Model {model_name}\")\n",
    "\n",
    "    time_to_train, clf, best_params = train_model(model=model, param_grid=param_grid, x_train=x_train, y_train=y_train)\n",
    "    predicted_labels = clf.predict(x_test)\n",
    "    accuracy = accuracy_score(y_test, predicted_labels)\n",
    "    logger.info(f\"Time to train model {time_to_train}\")\n",
    "    logger.info(f\"Model accuracy {model_name}: {accuracy}\")\n",
    "    logger.info(f\"Best Model Params {json.dumps(best_params, indent=4)}\")\n",
    "\n",
    "    result_model_info = {\n",
    "        \"model_name\": model_name,\n",
    "        \"model_instance\": clf,\n",
    "        \"model_accuracy\": accuracy,\n",
    "        \"train_time\": time_to_train,\n",
    "    }\n",
    "\n",
    "    models_list.append(result_model_info)"
   ]
  },
  {
   "cell_type": "markdown",
   "metadata": {},
   "source": [
    "## Confusion Matrix\n",
    "<p>The confusion matrix is a table used to evaluate the performance of a binary classification model. It presents correct and incorrect classifications in four categories: true positive, true negative, false positive, and false negative. The confusion matrix allows calculating metrics such as accuracy, sensitivity, specificity, and precision, providing insights into the model's performance. It is an important tool in the evaluation and optimization of classification models..<p>"
   ]
  },
  {
   "cell_type": "code",
   "execution_count": 7,
   "metadata": {},
   "outputs": [
    {
     "data": {
      "image/png": "[encoded data removed]",
      "text/plain": [
       "<Figure size 800x600 with 2 Axes>"
      ]
     },
     "metadata": {},
     "output_type": "display_data"
    }
   ],
   "source": [
    "models_list = sorted(models_list, key=lambda d: d['model_accuracy'])\n",
    "best_model = models_list[-1]\n",
    "best_model_clf = best_model.get(\"model_instance\")\n",
    "y_pred = best_model_clf.predict(x_test)\n",
    "cm = confusion_matrix(y_test, y_pred)\n",
    "plt.figure(figsize=(8, 6))\n",
    "sns.heatmap(cm, annot=True, cmap='Blues', fmt='d')\n",
    "plt.xlabel('Forecast')\n",
    "plt.ylabel('Actual Value')\n",
    "plt.title('Confusion Matrix')\n",
    "plt.show()"
   ]
  },
  {
   "cell_type": "code",
   "execution_count": 8,
   "metadata": {},
   "outputs": [
    {
     "name": "stdout",
     "output_type": "stream",
     "text": [
      "{'model_name': 'Random Forest', 'model_instance': RandomForestClassifier(criterion='entropy', max_depth=6, n_estimators=1000), 'model_accuracy': 0.8695652173913043, 'train_time': datetime.timedelta(seconds=41, microseconds=231760)}\n"
     ]
    }
   ],
   "source": [
    "print(best_model)"
   ]
  },
  {
   "cell_type": "markdown",
   "metadata": {},
   "source": [
    "## ROC curve (AUC)\n",
    "<p>The AUC is a metric that evaluates the ability of a classification model to distinguish correctly between two classes. It is used to compare models, select relevant features, establish classification thresholds, and monitor performance over time. The AUC curve summarizes the overall quality of the model, regardless of the chosen cutoff point, and it is a widely used measure in the analysis of classifier performance.<p>"
   ]
  },
  {
   "cell_type": "code",
   "execution_count": 9,
   "metadata": {},
   "outputs": [
    {
     "data": {
      "image/png": "[encoded data removed]",
      "text/plain": [
       "<Figure size 800x600 with 1 Axes>"
      ]
     },
     "metadata": {},
     "output_type": "display_data"
    }
   ],
   "source": [
    "y_prob = best_model_clf.predict_proba(x_test)[:, 1]\n",
    "fpr, tpr, thresholds = roc_curve(y_test, y_prob)\n",
    "roc_auc = auc(fpr, tpr)\n",
    "\n",
    "plt.figure(figsize=(8, 6))\n",
    "plt.plot(fpr, tpr, label='ROC Curve (AUC = %0.2f)' % roc_auc)\n",
    "plt.plot([0, 1], [0, 1], 'k--')\n",
    "plt.xlabel('False Positive Rate')\n",
    "plt.ylabel('True Positive Rate')\n",
    "plt.title('ROC Curve')\n",
    "plt.legend(loc=\"lower right\")\n",
    "plt.show()"
   ]
  },
  {
   "cell_type": "markdown",
   "metadata": {},
   "source": [
    "<b>Conclusion:</b>\n",
    "\n",
    "Cardiovascular Risk: Patients with elevated cholesterol levels, blood pressure, and Oldpeak tend to be at higher risk. These factors are known to affect heart health.\n",
    "\n",
    "Demographic Factors: Age and sex show a clear association, with older men being more affected, consistent with clinical studies.\n",
    "\n",
    "Specific Clinical Profiles: Changes in ECG, types of chest pain, and exercise-induced angina are significant variables. Asymptomatic individuals and those with flat ST inclination require more medical attention.\n",
    "\n",
    "The classification model used was Random Forest, implemented with the RandomForestClassifier, configured with the splitting criterion set to entropy and a maximum depth of 7. The model achieved an accuracy of 87.68%, demonstrating robust performance in the classification task. The total training time was approximately 34.78 seconds, reflecting efficient processing.\n",
    "\n",
    "The model evaluation was conducted through a confusion matrix, which showed that the model correctly classified 94 instances of class 0 and 144 instances of class 1, while recording 14 false positives and 20 false negatives. Additionally, the area under the curve (AUC) was calculated, resulting in 0.94, indicating an excellent ability to discriminate between classes, highlighting the model's effectiveness in predicting correct outcomes."
   ]
  }
 ],
 "metadata": {
  "kernelspec": {
   "display_name": "venv",
   "language": "python",
   "name": "python3"
  },
  "language_info": {
   "codemirror_mode": {
    "name": "ipython",
    "version": 3
   },
   "file_extension": ".py",
   "mimetype": "text/x-python",
   "name": "python",
   "nbconvert_exporter": "python",
   "pygments_lexer": "ipython3",
   "version": "3.12.6"
  }
 },
 "nbformat": 4,
 "nbformat_minor": 2
}
